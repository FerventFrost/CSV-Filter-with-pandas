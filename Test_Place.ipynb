{
 "cells": [
  {
   "cell_type": "markdown",
   "metadata": {},
   "source": [
    "# Search Using regex"
   ]
  },
  {
   "cell_type": "code",
   "execution_count": 55,
   "metadata": {},
   "outputs": [
    {
     "data": {
      "text/plain": [
       "Index(['Industry_aggregation_NZSIOC', 'Industry_code_NZSIOC',\n",
       "       'Industry_name_NZSIOC', 'Units'],\n",
       "      dtype='object')"
      ]
     },
     "execution_count": 55,
     "metadata": {},
     "output_type": "execute_result"
    }
   ],
   "source": [
    "import pandas as pd\n",
    "df = pd.read_csv(\"C:/Project/Hussien Semester 2 year 3/annual-enterprise-survey-2020-financial-year-provisional-csv.csv\", nrows = 5)\n",
    "\n",
    "df.columns[1:5]"
   ]
  },
  {
   "cell_type": "code",
   "execution_count": 1,
   "metadata": {},
   "outputs": [
    {
     "name": "stdout",
     "output_type": "stream",
     "text": [
      "<class 'pandas.core.frame.DataFrame'>\n",
      "<class 'pandas.core.frame.DataFrame'>\n",
      "<class 'pandas.core.frame.DataFrame'>\n",
      "<class 'pandas.core.frame.DataFrame'>\n",
      "<class 'pandas.core.frame.DataFrame'>\n"
     ]
    }
   ],
   "source": [
    "import concurrent.futures\n",
    "import queue\n",
    "import random\n",
    "import threading\n",
    "import time\n",
    "import pandas as pd\n",
    "\n",
    "df = pd.read_csv(\"..//Hussien_First_100_record1.csv\", chunksize=20)\n",
    "\n",
    "def producer(queue, event):\n",
    "    while not event.is_set():\n",
    "        for data in df:\n",
    "            queue.put(data.copy())\n",
    "\n",
    "\n",
    "\n",
    "def consumer(queue, event):\n",
    "    while not event.is_set() or not queue.empty():\n",
    "        message = queue.get()\n",
    "        message1 = message.copy()\n",
    "        print(type(message1))\n",
    "\n",
    "\n",
    "\n",
    "\n",
    "if __name__ == \"__main__\":\n",
    "    Producer_Filter = queue.Queue(maxsize=10)\n",
    "    event = threading.Event()\n",
    "    with concurrent.futures.ThreadPoolExecutor(max_workers=2) as executor:\n",
    "        executor.submit(producer, Producer_Filter, event)\n",
    "        executor.submit(consumer, Producer_Filter, event)\n",
    "\n",
    "        time.sleep(0.1)\n",
    "\n",
    "        event.set()"
   ]
  },
  {
   "cell_type": "code",
   "execution_count": 1,
   "metadata": {},
   "outputs": [
    {
     "name": "stdout",
     "output_type": "stream",
     "text": [
      "[1 2012 55 'ahmed']\n",
      "hello\n",
      "hello\n",
      "hello\n",
      "   month  year  sale   Name\n",
      "0      1  2012    55  ahmed\n",
      "1      4  2014    40    ali\n",
      "2      7  2013    84  baher\n",
      "3     10  2014    31   adel\n",
      "4      1  2012    55  ahmed\n"
     ]
    }
   ],
   "source": [
    "import pandas as pd\n",
    "import time\n",
    "import re\n",
    "\n",
    "pattern = re.compile(\"ahmed\")\n",
    "df = pd.DataFrame({'month': [1, 4, 7, 10],\n",
    "                   'year': [2012, 2014, 2013, 2014],\n",
    "                   'sale': [55, 40, 84, 31],\n",
    "                   \"Name\": [\"ahmed\", \"ali\",\"baher\",\"adel\"]})\n",
    "for i in df.values:\n",
    "    hi = re.search(pattern,i[3])\n",
    "    if not hi:\n",
    "        print(\"hello\")\n",
    "    elif hi:\n",
    "        df = pd.concat([df, pd.DataFrame([i], columns = df.columns)], ignore_index= True)\n",
    "        print(i)\n",
    "print(df)\n",
    "# bool_df = re.search(pattern,df[\"Name\"])\n",
    "# bool_df = df.Name.apply(lambda x :re.search(pattern, x))\n",
    "# if bool_df[0]:\n",
    "#     print(\"hello\")\n",
    "# df = df.apply(lambda x : str(x))"
   ]
  },
  {
   "cell_type": "markdown",
   "metadata": {},
   "source": [
    "# Search Using string contain mehtod"
   ]
  },
  {
   "cell_type": "code",
   "execution_count": 19,
   "metadata": {},
   "outputs": [
    {
     "name": "stdout",
     "output_type": "stream",
     "text": [
      "   month  year  sale   Name\n",
      "1      4  2014    40    ali\n",
      "2      7  2013    84  baher\n",
      "3     10  2014    31   adel\n",
      "0.000997781753540039\n"
     ]
    }
   ],
   "source": [
    "start = time.time()\n",
    "bool_checker = df.Name.str.contains(\"ahmed\", regex = True, flags = re.I, na= False)\n",
    "print(df[~bool_checker])\n",
    "end = time.time()\n",
    "print(end - start)"
   ]
  },
  {
   "cell_type": "markdown",
   "metadata": {},
   "source": [
    "# DataFrame that is being used"
   ]
  },
  {
   "cell_type": "code",
   "execution_count": 2,
   "metadata": {},
   "outputs": [],
   "source": [
    "df = pd.DataFrame({'month': [1, 4, 7, 10],\n",
    "                   'year': [2012, 2014, 2013, 2014],\n",
    "                   'sale': [55, 40, 84, 31]})"
   ]
  },
  {
   "cell_type": "markdown",
   "metadata": {},
   "source": [
    "# Search Using Dataframe method"
   ]
  },
  {
   "cell_type": "code",
   "execution_count": 16,
   "metadata": {},
   "outputs": [
    {
     "name": "stdout",
     "output_type": "stream",
     "text": [
      "   month  year  sale   Name\n",
      "1      4  2014    40    ali\n",
      "2      7  2013    84  baher\n",
      "3     10  2014    31   adel\n",
      "0.001996755599975586\n"
     ]
    }
   ],
   "source": [
    "start = time.time()\n",
    "print(df[df[\"sale\"] != 55])                    #select head with name\n",
    "# print(df[df.iloc[:,2] != 55])           #for select head with number\n",
    "# print(df.iloc[:,2])                       #for select head with number\n",
    "end = time.time()\n",
    "print(end-start)\n",
    "# print(df)"
   ]
  },
  {
   "cell_type": "markdown",
   "metadata": {},
   "source": [
    "# Search using DataFrame query method"
   ]
  },
  {
   "cell_type": "code",
   "execution_count": 20,
   "metadata": {},
   "outputs": [
    {
     "name": "stdout",
     "output_type": "stream",
     "text": [
      "   month  year  sale   Name\n",
      "0      1  2012    55  ahmed\n",
      "4      1  2012    55  ahmed\n",
      "0.002000093460083008\n"
     ]
    }
   ],
   "source": [
    "start = time.time()\n",
    "df.query('sale == 55', inplace= True)\n",
    "end = time.time()\n",
    "print(df)\n",
    "print(end-start)"
   ]
  },
  {
   "cell_type": "markdown",
   "metadata": {},
   "source": [
    "# Dataframe Drop method"
   ]
  },
  {
   "cell_type": "code",
   "execution_count": 21,
   "metadata": {},
   "outputs": [
    {
     "name": "stdout",
     "output_type": "stream",
     "text": [
      "Empty DataFrame\n",
      "Columns: [month, year, Name]\n",
      "Index: []\n",
      "0.009005308151245117\n"
     ]
    }
   ],
   "source": [
    "start = time.time()\n",
    "df_copy = df.copy()\n",
    "df_copy.set_index([\"sale\"], inplace=True)\n",
    "df_copy.drop(55,inplace=True)\n",
    "end = time.time()\n",
    "print(df_copy)\n",
    "print(end-start)"
   ]
  },
  {
   "cell_type": "markdown",
   "metadata": {},
   "source": [
    "# DataFrame filter method"
   ]
  },
  {
   "cell_type": "code",
   "execution_count": 22,
   "metadata": {},
   "outputs": [
    {
     "name": "stdout",
     "output_type": "stream",
     "text": [
      "   month   Name\n",
      "0      1  ahmed\n",
      "4      1  ahmed\n",
      "0.0029952526092529297\n"
     ]
    }
   ],
   "source": [
    "start = time.time()\n",
    "print(df.filter(regex=\"^(?!sale|year)\"))        #not euqal pattern is ^(?pattern)\n",
    "end = time.time()\n",
    "print(end-start)"
   ]
  },
  {
   "cell_type": "markdown",
   "metadata": {},
   "source": [
    "# Filter Using Appply"
   ]
  },
  {
   "cell_type": "code",
   "execution_count": 2,
   "metadata": {},
   "outputs": [
    {
     "name": "stdout",
     "output_type": "stream",
     "text": [
      "   month  year  sale   Name\n",
      "0      1  2012    55  ahmed\n",
      "1      4  2014    40    ali\n",
      "2      7  2013    84  baher\n",
      "3     10  2014    31   adel\n",
      "4      1  2012    55  ahmed\n",
      "\n",
      " 0    False\n",
      "1     True\n",
      "2     True\n",
      "3     True\n",
      "4    False\n",
      "Name: sale, dtype: bool\n",
      "\n",
      " 0     True\n",
      "1    False\n",
      "2     True\n",
      "3     True\n",
      "4     True\n",
      "Name: Name, dtype: bool\n",
      "\n",
      "\n",
      " 0    False\n",
      "1    False\n",
      "2     True\n",
      "3     True\n",
      "4    False\n",
      "dtype: bool\n",
      "\n",
      "    month  year  sale   Name\n",
      "2      7  2013    84  baher\n",
      "3     10  2014    31   adel\n",
      "0.008991718292236328\n"
     ]
    }
   ],
   "source": [
    "def Return_True_False(BoolList):\n",
    "    x = BoolList[0]\n",
    "    for i in BoolList:\n",
    "        x = x & i\n",
    "    return x\n",
    "start = time.time()\n",
    "print(df)\n",
    "bool_apply_1 = df[\"sale\"].apply(lambda x : x != 55)\n",
    "bool_apply_2 = df[\"Name\"].apply(lambda x : x != \"ali\" )\n",
    "print(\"\\n\", bool_apply_1)\n",
    "print(\"\\n\", bool_apply_2)\n",
    "# print(bool_apply_2 & bool_apply_3 & bool_apply_2)\n",
    "# print(bool_apply & bool_apply_2 & bool_apply_3)\n",
    "\n",
    "bool_ = Return_True_False([bool_apply_1, bool_apply_2])\n",
    "print(\"\\n\\n\",bool_)\n",
    "print(\"\\n\", df[bool_])\n",
    "end = time.time()\n",
    "print(end - start)"
   ]
  },
  {
   "cell_type": "code",
   "execution_count": 15,
   "metadata": {},
   "outputs": [
    {
     "name": "stdout",
     "output_type": "stream",
     "text": [
      "first 5, and second 7\n",
      "(5, 7)\n",
      "Hello\n"
     ]
    }
   ],
   "source": [
    "import queue\n",
    "from asyncio.windows_events import NULL\n",
    "\n",
    "def foo(q):\n",
    "    q.put( (5, 7) )\n",
    "    q.put(None)\n",
    "\n",
    "if __name__ == \"__main__\":\n",
    "    q = queue.Queue()\n",
    "    foo(q)\n",
    "    message = q.get()\n",
    "    print(f'first {message[0]}, and second {message[1]}')\n",
    "    if message is not None:\n",
    "        print(message)\n",
    "    else:\n",
    "        print(\"Hello\")\n",
    "    message = q.get()\n",
    "    if message is not None:\n",
    "        print(message)\n",
    "    else:\n",
    "        print(\"Hello\")  "
   ]
  },
  {
   "cell_type": "code",
   "execution_count": 36,
   "metadata": {},
   "outputs": [
    {
     "name": "stdout",
     "output_type": "stream",
     "text": [
      "0    False\n",
      "1     True\n",
      "2     True\n",
      "3     True\n",
      "Name: sale, dtype: bool\n",
      "0     True\n",
      "1    False\n",
      "2     True\n",
      "3    False\n",
      "Name: year, dtype: bool\n"
     ]
    },
    {
     "ename": "ValueError",
     "evalue": "too many values to unpack (expected 2)",
     "output_type": "error",
     "traceback": [
      "\u001b[1;31m---------------------------------------------------------------------------\u001b[0m",
      "\u001b[1;31mValueError\u001b[0m                                Traceback (most recent call last)",
      "Input \u001b[1;32mIn [36]\u001b[0m, in \u001b[0;36m<cell line: 9>\u001b[1;34m()\u001b[0m\n\u001b[0;32m      7\u001b[0m \u001b[38;5;28mprint\u001b[39m(\u001b[38;5;28mbool\u001b[39m)\n\u001b[0;32m      8\u001b[0m \u001b[38;5;28mprint\u001b[39m(bool2)\n\u001b[1;32m----> 9\u001b[0m \u001b[38;5;28;01mfor\u001b[39;00m i, j \u001b[38;5;129;01min\u001b[39;00m bool3:\n\u001b[0;32m     10\u001b[0m     \u001b[38;5;28mprint\u001b[39m(i \u001b[38;5;129;01mand\u001b[39;00m j \u001b[38;5;241m==\u001b[39m \u001b[38;5;28;01mTrue\u001b[39;00m)\n",
      "\u001b[1;31mValueError\u001b[0m: too many values to unpack (expected 2)"
     ]
    }
   ],
   "source": [
    "def foo(x,y):\n",
    "    return x == y\n",
    "bool = df[\"sale\"] != 55\n",
    "bool2 = df[\"year\"] != 2014\n",
    "bool3 = (bool, bool2)\n",
    "\n",
    "print(bool)\n",
    "print(bool2)\n",
    "for i, j in bool3:\n",
    "    print(i and j == True)\n"
   ]
  },
  {
   "cell_type": "code",
   "execution_count": 55,
   "metadata": {},
   "outputs": [
    {
     "data": {
      "text/plain": [
       "dict"
      ]
     },
     "execution_count": 55,
     "metadata": {},
     "output_type": "execute_result"
    }
   ],
   "source": [
    "arr = [True,False,True]\n",
    "hi = map(lambda X, Y: X&Y, arr, arr[1:])\n",
    "list(hi)\n",
    "\n",
    "x = \"hDDHEsd\"\n",
    "x = x.lower()\n",
    "print(x)\n",
    "TimeDict = {}\n",
    "type(TimeDict)"
   ]
  },
  {
   "cell_type": "code",
   "execution_count": 61,
   "metadata": {},
   "outputs": [
    {
     "name": "stdout",
     "output_type": "stream",
     "text": [
      "hi\n"
     ]
    }
   ],
   "source": [
    "# df = pd.read_csv(\"../2.csv\", nrows = 3 * 10 ** 4, low_memory=False, usecols=[0,2,4])\n",
    "# print(type(df.iloc[:,1]))\n",
    "# for i in df.iloc[:,1]:\n",
    "#     if type(i) is float:\n",
    "#         print(\"hi\")\n",
    "#         print(i)\n",
    "#         break\n",
    "li = [i for i in [22,4,5]]\n",
    "if type(li[0]) is int:\n",
    "    print(\"hi\")"
   ]
  },
  {
   "cell_type": "code",
   "execution_count": 17,
   "metadata": {},
   "outputs": [
    {
     "data": {
      "text/html": [
       "<div>\n",
       "<style scoped>\n",
       "    .dataframe tbody tr th:only-of-type {\n",
       "        vertical-align: middle;\n",
       "    }\n",
       "\n",
       "    .dataframe tbody tr th {\n",
       "        vertical-align: top;\n",
       "    }\n",
       "\n",
       "    .dataframe thead th {\n",
       "        text-align: right;\n",
       "    }\n",
       "</style>\n",
       "<table border=\"1\" class=\"dataframe\">\n",
       "  <thead>\n",
       "    <tr style=\"text-align: right;\">\n",
       "      <th></th>\n",
       "      <th>month</th>\n",
       "      <th>year</th>\n",
       "      <th>sale</th>\n",
       "      <th>Name</th>\n",
       "    </tr>\n",
       "  </thead>\n",
       "  <tbody>\n",
       "    <tr>\n",
       "      <th>1</th>\n",
       "      <td>4.0</td>\n",
       "      <td>2014.0</td>\n",
       "      <td>40.0</td>\n",
       "      <td>ahmed</td>\n",
       "    </tr>\n",
       "    <tr>\n",
       "      <th>2</th>\n",
       "      <td>7.0</td>\n",
       "      <td>NaN</td>\n",
       "      <td>84.0</td>\n",
       "      <td>ali</td>\n",
       "    </tr>\n",
       "    <tr>\n",
       "      <th>3</th>\n",
       "      <td>10.0</td>\n",
       "      <td>2013.0</td>\n",
       "      <td>31.0</td>\n",
       "      <td>baher</td>\n",
       "    </tr>\n",
       "  </tbody>\n",
       "</table>\n",
       "</div>"
      ],
      "text/plain": [
       "   month    year  sale   Name\n",
       "1    4.0  2014.0  40.0  ahmed\n",
       "2    7.0     NaN  84.0    ali\n",
       "3   10.0  2013.0  31.0  baher"
      ]
     },
     "execution_count": 17,
     "metadata": {},
     "output_type": "execute_result"
    }
   ],
   "source": [
    "import pandas as pd\n",
    "import numpy as np\n",
    "df = pd.DataFrame({'month': [1, 4, 7, 10, np.nan],\n",
    "                   'year': [2012, 2014, np.nan ,2013, 2014],\n",
    "                   'sale': [55, 40, 84, 31, np.nan],\n",
    "                   \"Name\": [np.nan, \"ahmed\", \"ali\",\"baher\",\"adel\"]})\n",
    "ndf = df.head(0).copy()\n",
    "ndf = pd.concat([ndf,df], copy = True, ignore_index = True)\n",
    "var = [ndf.columns[0], ndf.columns[3]]\n",
    "ndf.dropna(subset=var)"
   ]
  },
  {
   "cell_type": "code",
   "execution_count": 16,
   "metadata": {},
   "outputs": [
    {
     "name": "stdout",
     "output_type": "stream",
     "text": [
      "(0, 'ahmed')\n",
      "(1, 'ali')\n",
      "(2, 'baher')\n",
      "(3, 'adel')\n"
     ]
    }
   ],
   "source": [
    "for idx, key in enumerate(df.values):\n",
    "    print((idx, key[3]))"
   ]
  },
  {
   "cell_type": "code",
   "execution_count": 19,
   "metadata": {},
   "outputs": [],
   "source": [
    "import ahocorasick\n",
    "automaton = ahocorasick.Automaton()\n",
    "for idx, key in enumerate('he her hers she'.split()):\n",
    "    automaton.add_word(key, (idx, key))\n",
    "\n",
    "automaton.make_automaton()"
   ]
  }
 ],
 "metadata": {
  "interpreter": {
   "hash": "4b2f8e56cd7905d5c493b8a9ecd205a07378fead9d8400bdc624d25c370e8d1d"
  },
  "kernelspec": {
   "display_name": "Python 3.9.2 64-bit",
   "language": "python",
   "name": "python3"
  },
  "language_info": {
   "codemirror_mode": {
    "name": "ipython",
    "version": 3
   },
   "file_extension": ".py",
   "mimetype": "text/x-python",
   "name": "python",
   "nbconvert_exporter": "python",
   "pygments_lexer": "ipython3",
   "version": "3.9.2"
  },
  "orig_nbformat": 4
 },
 "nbformat": 4,
 "nbformat_minor": 2
}
